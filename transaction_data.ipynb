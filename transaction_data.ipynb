{
 "cells": [
  {
   "cell_type": "code",
   "execution_count": 78,
   "metadata": {},
   "outputs": [
    {
     "ename": "TypeError",
     "evalue": "Expense_Data.plot_data() missing 1 required positional argument: 'self'",
     "output_type": "error",
     "traceback": [
      "\u001b[1;31m---------------------------------------------------------------------------\u001b[0m",
      "\u001b[1;31mTypeError\u001b[0m                                 Traceback (most recent call last)",
      "Cell \u001b[1;32mIn[78], line 5\u001b[0m\n\u001b[0;32m      2\u001b[0m \u001b[39mimport\u001b[39;00m \u001b[39mnumpy\u001b[39;00m \u001b[39mas\u001b[39;00m \u001b[39mnp\u001b[39;00m\n\u001b[0;32m      3\u001b[0m \u001b[39mimport\u001b[39;00m \u001b[39mmatplotlib\u001b[39;00m\u001b[39m.\u001b[39;00m\u001b[39mpyplot\u001b[39;00m \u001b[39mas\u001b[39;00m \u001b[39mplt\u001b[39;00m\n\u001b[1;32m----> 5\u001b[0m \u001b[39mclass\u001b[39;00m \u001b[39mExpense_Data\u001b[39;00m:\n\u001b[0;32m      6\u001b[0m     \u001b[39mdef\u001b[39;00m \u001b[39mget_data\u001b[39m(year):\n\u001b[0;32m      7\u001b[0m         \u001b[39m# importing the csv file that house all the transactions\u001b[39;00m\n\u001b[0;32m      8\u001b[0m         transactions \u001b[39m=\u001b[39m pd\u001b[39m.\u001b[39mread_csv(\u001b[39m\"\u001b[39m\u001b[39mTransactions-9562-2023-01-24.csv\u001b[39m\u001b[39m\"\u001b[39m,\n\u001b[0;32m      9\u001b[0m                                     parse_dates\u001b[39m=\u001b[39m[\u001b[39m'\u001b[39m\u001b[39mDate\u001b[39m\u001b[39m'\u001b[39m],\n\u001b[0;32m     10\u001b[0m                                     na_values\u001b[39m=\u001b[39m[\u001b[39m0.00\u001b[39m])\n",
      "Cell \u001b[1;32mIn[78], line 36\u001b[0m, in \u001b[0;36mExpense_Data\u001b[1;34m()\u001b[0m\n\u001b[0;32m     33\u001b[0m     ax\u001b[39m.\u001b[39mplot(df[\u001b[39m'\u001b[39m\u001b[39mDate\u001b[39m\u001b[39m'\u001b[39m], df[\u001b[39m'\u001b[39m\u001b[39mDebit\u001b[39m\u001b[39m'\u001b[39m])\n\u001b[0;32m     34\u001b[0m     plt\u001b[39m.\u001b[39mtitle(\u001b[39mstr\u001b[39m(year)\u001b[39m+\u001b[39m\u001b[39m'\u001b[39m\u001b[39m Expense Data\u001b[39m\u001b[39m'\u001b[39m)\n\u001b[1;32m---> 36\u001b[0m plot_data(year\u001b[39m=\u001b[39;49m\u001b[39m2020\u001b[39;49m)\n\u001b[0;32m     37\u001b[0m plot_data(year\u001b[39m=\u001b[39m\u001b[39m2021\u001b[39m)\n\u001b[0;32m     38\u001b[0m plot_data(year\u001b[39m=\u001b[39m\u001b[39m2022\u001b[39m)\n",
      "\u001b[1;31mTypeError\u001b[0m: Expense_Data.plot_data() missing 1 required positional argument: 'self'"
     ]
    }
   ],
   "source": [
    "import pandas as pd\n",
    "import numpy as np\n",
    "import matplotlib.pyplot as plt\n",
    "\n",
    "class Expense_Data:\n",
    "\n",
    "    def get_data(year):\n",
    "        # importing the csv file that house all the transactions\n",
    "        transactions = pd.read_csv(\"Transactions-9562-2023-01-24.csv\",\n",
    "                                    parse_dates=['Date'],\n",
    "                                    na_values=[0.00])\n",
    "\n",
    "        # creating the pandas dataframe\n",
    "        df = pd.DataFrame(transactions)\n",
    "        \n",
    "        # subsetting the data to remove unneeded columns\n",
    "        df1 = df.iloc[1:, [0,2,3,4,5,6]]\n",
    "\n",
    "        # adding a column to select all rows containing the year \n",
    "        # returning all rows with the 'Year' column value for the specified year\n",
    "        dates = df1['Date']\n",
    "        df1['Year'] = pd.DatetimeIndex(dates).year\n",
    "\n",
    "        return df1.loc[df1['Year'] == year]\n",
    "\n",
    "    # creating a function for plotting the data \n",
    "    def plot_data(year):\n",
    "        # storing the 2020 in a new variable 'df'\n",
    "\n",
    "        df = ed.get_data(year)\n",
    "        df['Debit'] = df['Debit'].fillna(0)\n",
    "\n",
    "        fig, ax = plt.subplots(figsize=(30,10))\n",
    "        ax.plot(df['Date'], df['Debit'])\n",
    "        plt.title(str(year)+' Expense Data')\n",
    "\n",
    "    plot_data(year=2020)\n",
    "    plot_data(year=2021)\n",
    "    plot_data(year=2022)\n",
    "\n",
    "\n",
    "ed = Expense_Data()\n",
    "\n",
    "ed\n"
   ]
  }
 ],
 "metadata": {
  "kernelspec": {
   "display_name": "Python 3",
   "language": "python",
   "name": "python3"
  },
  "language_info": {
   "codemirror_mode": {
    "name": "ipython",
    "version": 3
   },
   "file_extension": ".py",
   "mimetype": "text/x-python",
   "name": "python",
   "nbconvert_exporter": "python",
   "pygments_lexer": "ipython3",
   "version": "3.10.8"
  },
  "orig_nbformat": 4,
  "vscode": {
   "interpreter": {
    "hash": "b30c96df76ae8b5a11bdb26b7399adc9f86945eaefc00d0083bf6d9e68abdc58"
   }
  }
 },
 "nbformat": 4,
 "nbformat_minor": 2
}
